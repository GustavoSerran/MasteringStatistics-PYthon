{
 "cells": [
  {
   "cell_type": "code",
   "execution_count": null,
   "id": "453522b5",
   "metadata": {},
   "outputs": [],
   "source": [
    "import codecademylib3\n",
    "\n",
    "# Import pandas with alias\n",
    "import pandas as pd\n",
    "from datetime import datetime"
   ]
  },
  {
   "cell_type": "code",
   "execution_count": null,
   "id": "2eb4cba5",
   "metadata": {},
   "outputs": [],
   "source": [
    "# Read in the census dataframe\n",
    "census = pd.read_csv('census_data.csv', index_col=0)\n",
    "\n",
    "# Replace the missing value with 1967\n",
    "census['birth_year'] = census['birth_year'].replace('missing', 1967)\n",
    "\n",
    "# Print unique birth years and data types\n",
    "print(census['birth_year'].unique())\n",
    "print(census.dtypes)\n",
    "\n",
    "# Change the data type of 'birth_year'\n",
    "census['birth_year'] = census['birth_year'].astype(int)\n",
    "print(census.dtypes)"
   ]
  },
  {
   "cell_type": "code",
   "execution_count": null,
   "id": "e77fb501",
   "metadata": {},
   "outputs": [],
   "source": [
    "# Average birth_year\n",
    "print(int(census['birth_year'].mean()))"
   ]
  },
  {
   "cell_type": "code",
   "execution_count": null,
   "id": "c3fab63c",
   "metadata": {},
   "outputs": [],
   "source": [
    "# Turn the higher_tax variable into categorical\n",
    "census['higher_tax'] = pd.Categorical(\n",
    "    census['higher_tax'], \n",
    "    ['strongly disagree', 'disagree', 'neutral', 'agree', 'strongly]()
