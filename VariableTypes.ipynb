{
  {
   "cell_type": "code",
   "execution_count": null,
   "id": "453522b5",
   "metadata": {},
   "outputs": [],
   "source": [
    "import codecademylib3\n",
    "\n",
    "# Import pandas with alias\n",
    "import pandas as pd\n",
    "from datetime import datetime"
   ]
  },
  {
   "cell_type": "code",
   "execution_count": null,
   "id": "2eb4cba5",
   "metadata": {},
   "outputs": [],
   "source": [
    "# Read in the census dataframe\n",
    "census = pd.read_csv('census_data.csv', index_col=0)\n",
    "\n",
    "#Replace the missing valoe with 1967\n",
    "census['birth_year'] = census['birth_year'].replace(['missing'], 1967)\n",
    "\n",
    "#print unique\n",
    "print(census['birth_year'].unique())\n",
    "print(census.dtypes)\n",
    "\n",
    "#Change the data types of \"birth_year\"\n",
    "census['birth_year'] = census['birth_year'].astype(int)\n",
    "print(census.dtypes)\n",
    "\n"
   ]
  },
  {
   "cell_type": "code",
   "execution_count": null,
   "id": "e77fb501",
   "metadata": {},
   "outputs": [],
   "source": [
    "#Average birth_year\n",
    "print(census['birth_year'].mean().astype(int))"
   ]
  },
  {
   "cell_type": "code",
   "execution_count": null,
   "id": "c3fab63c",
   "metadata": {},
   "outputs": [],
   "source": [
    "#Turn the higher_tax variable into cantegorical \n",
    "census['higher_tax'] = pd.Categorical(census['higher_tax'], ['strongly disagree', 'disagree', 'neutral', 'agree', 'strongly agree'], ordered= True)\n",
    "\n",
    "#View the median in the higher_tax variable\n",
    "census['higher_tax'] = census['higher_tax'].cat.codes\n",
    "median = census['higher_tax'].median()\n",
    "print(median)"
   ]
  },
  {
   "cell_type": "code",
   "execution_count": null,
   "id": "0226a21c",
   "metadata": {},
   "outputs": [],
   "source": [
    "#One-Hot-Encode the marital_status variablew\n",
    "encodedCensus = pd.get_dummies(census['marital_status']) \n",
    "\n",
    "print(encodedCensus.head())\n",
    "#Create a new variable called marital_codes\n",
    "census['marital_status'] = pd.Categorical(census['marital_status'])\n",
    "\n",
    "census['marital_codes'] = census['marital_status'].cat.codes\n",
    "\n",
    "print(census.head(5))\n",
    "\n"
   ]
  },
  {
   "cell_type": "code",
   "execution_count": null,
   "id": "6318f58d",
   "metadata": {},
   "outputs": [],
   "source": [
    "#Create a new variable called age_group\n",
    "#calculate the age\n",
    "currentYear = datetime.now().year\n",
    "census['age'] = currentYear - census['birth_year']\n",
    "\n",
    "# Define age groups in 5-year increments\n",
    "bins = list(range(0, 101, 5))\n",
    "labels = [f'{i}-{i+4}' for i in range(0, 96, 5)]\n",
    "\n",
    "#assign age groups\n",
    "census['age_group'] = pd.cut(census['age'], bins=bins, labels=labels, right=False)\n",
    "\n",
    "print(census.head())"
   ]
  }
 ],
 "metadata": {
  "kernelspec": {
   "display_name": "Python 3 (ipykernel)",
   "language": "python",
   "name": "python3"
  },
  "language_info": {
   "codemirror_mode": {
    "name": "ipython",
    "version": 3
   },
   "file_extension": ".py",
   "mimetype": "text/x-python",
   "name": "python",
   "nbconvert_exporter": "python",
   "pygments_lexer": "ipython3",
   "version": "3.9.13"
  }
 },
 "nbformat": 4,
 "nbformat_minor": 5
}
